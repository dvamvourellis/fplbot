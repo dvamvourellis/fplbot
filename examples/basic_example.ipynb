{
 "cells": [
  {
   "cell_type": "code",
   "execution_count": 1,
   "id": "8e089f12",
   "metadata": {},
   "outputs": [
    {
     "name": "stdout",
     "output_type": "stream",
     "text": [
      "../config.yaml\n"
     ]
    }
   ],
   "source": [
    "import sys\n",
    "sys.path.append('../')\n",
    "from fplbot.bot_agent.bot import fplAgent\n",
    "from langchain.callbacks import get_openai_callback"
   ]
  },
  {
   "cell_type": "code",
   "execution_count": 2,
   "id": "afcd9b98",
   "metadata": {},
   "outputs": [],
   "source": [
    "%load_ext autoreload\n",
    "\n",
    "%autoreload 2"
   ]
  },
  {
   "cell_type": "code",
   "execution_count": 6,
   "id": "82d342fe",
   "metadata": {},
   "outputs": [],
   "source": [
    "agent = fplAgent(update_data=True, \n",
    "                 model_name='text-davinci-003',\n",
    "                 load_history=False\n",
    "                )"
   ]
  },
  {
   "cell_type": "code",
   "execution_count": 8,
   "id": "f596338c",
   "metadata": {},
   "outputs": [
    {
     "name": "stdout",
     "output_type": "stream",
     "text": [
      "\n",
      "\n",
      "\u001b[1m> Entering new  chain...\u001b[0m\n",
      "\u001b[32;1m\u001b[1;3mThought: I need to find the player with the second most points\n",
      "Action: python_repl_ast\n",
      "Action Input: df1.sort_values(by='total_points', ascending=False).head(2)\u001b[0m\n",
      "Observation: \u001b[36;1m\u001b[1;3m      id    position  team_name second_name       full_name  now_cost  form  \\\n",
      "421  355     Forward   Man City     Haaland  Erling Haaland      14.1   9.8   \n",
      "122  108  Midfielder  Brentford      Mbeumo    Bryan Mbeumo       6.8   8.2   \n",
      "\n",
      "    news  points_per_game  selected_by_percent  ...  red_cards  saves  \\\n",
      "421                   9.8                 91.8  ...          0      0   \n",
      "122                   8.2                 26.7  ...          0      0   \n",
      "\n",
      "     bonus_points  influence  creativity  threat  ict_index  expected_goals  \\\n",
      "421             6      224.4        71.8   248.0       54.4            4.54   \n",
      "122             4      164.0       108.6   159.0       43.1            4.02   \n",
      "\n",
      "     expected_assists  expected_goal_involvements  \n",
      "421              0.18                        4.72  \n",
      "122              0.92                        4.94  \n",
      "\n",
      "[2 rows x 31 columns]\u001b[0m\n",
      "Thought:\u001b[32;1m\u001b[1;3m I now know the second player with the most points\n",
      "Final Answer: Bryan Mbeumo\u001b[0m\n",
      "\n",
      "\u001b[1m> Finished chain.\u001b[0m\n"
     ]
    }
   ],
   "source": [
    "query=\"second one after Haaland?\"\n",
    "test = agent(query)"
   ]
  },
  {
   "cell_type": "code",
   "execution_count": 9,
   "id": "cd9d3cdc",
   "metadata": {},
   "outputs": [
    {
     "name": "stdout",
     "output_type": "stream",
     "text": [
      "\n",
      "\n",
      "\u001b[1m> Entering new  chain...\u001b[0m\n",
      "\u001b[32;1m\u001b[1;3mThought: I need to find the player with the highest value for money\n",
      "Action: python_repl_ast\n",
      "Action Input: df1[df1['value_for_money'].idxmax()]\u001b[0m\n",
      "Observation: \u001b[36;1m\u001b[1;3mKeyError: 615\u001b[0m\n",
      "Thought:\u001b[32;1m\u001b[1;3m I need to find the player with the highest value for money in df1\n",
      "Action: python_repl_ast\n",
      "Action Input: df1[df1['value_for_money'] == df1['value_for_money'].max()]\u001b[0m\n",
      "Observation: \u001b[36;1m\u001b[1;3m      id  position team_name second_name        full_name  now_cost  form  \\\n",
      "615  511  Defender     Spurs      Romero  Cristian Romero       4.7   6.8   \n",
      "\n",
      "    news  points_per_game  selected_by_percent  ...  red_cards  saves  \\\n",
      "615                   6.8                 12.1  ...          0      0   \n",
      "\n",
      "     bonus_points  influence  creativity  threat  ict_index  expected_goals  \\\n",
      "615             1      149.4         3.2    46.0       19.9            0.62   \n",
      "\n",
      "     expected_assists  expected_goal_involvements  \n",
      "615              0.03                        0.65  \n",
      "\n",
      "[1 rows x 31 columns]\u001b[0m\n",
      "Thought:\u001b[32;1m\u001b[1;3m I now know the final answer\n",
      "Final Answer: Cristian Romero\u001b[0m\n",
      "\n",
      "\u001b[1m> Finished chain.\u001b[0m\n"
     ]
    }
   ],
   "source": [
    "query=\"who is the player with highest value for money?\"\n",
    "test = agent(query)"
   ]
  }
 ],
 "metadata": {
  "kernelspec": {
   "display_name": "Python 3 (ipykernel)",
   "language": "python",
   "name": "python3"
  },
  "language_info": {
   "codemirror_mode": {
    "name": "ipython",
    "version": 3
   },
   "file_extension": ".py",
   "mimetype": "text/x-python",
   "name": "python",
   "nbconvert_exporter": "python",
   "pygments_lexer": "ipython3",
   "version": "3.10.11"
  }
 },
 "nbformat": 4,
 "nbformat_minor": 5
}
