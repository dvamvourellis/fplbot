{
 "cells": [
  {
   "cell_type": "code",
   "execution_count": 2,
   "id": "8e089f12",
   "metadata": {},
   "outputs": [],
   "source": [
    "from fplbot.bot_agent.bot import fplAgent"
   ]
  },
  {
   "cell_type": "code",
   "execution_count": 3,
   "id": "afcd9b98",
   "metadata": {},
   "outputs": [],
   "source": [
    "%load_ext autoreload\n",
    "\n",
    "%autoreload 2"
   ]
  },
  {
   "cell_type": "code",
   "execution_count": 4,
   "id": "77108e05",
   "metadata": {},
   "outputs": [],
   "source": [
    "openai_api_key = \"your-key\""
   ]
  },
  {
   "cell_type": "code",
   "execution_count": 5,
   "id": "82d342fe",
   "metadata": {},
   "outputs": [],
   "source": [
    "agent = fplAgent(openai_api_key)"
   ]
  },
  {
   "cell_type": "code",
   "execution_count": 6,
   "id": "553e7804",
   "metadata": {},
   "outputs": [],
   "source": [
    "query = \"Who is the player with the highest number of points per game?\""
   ]
  },
  {
   "cell_type": "code",
   "execution_count": 7,
   "id": "f269a7e5",
   "metadata": {},
   "outputs": [
    {
     "name": "stdout",
     "output_type": "stream",
     "text": [
      "\n",
      "\n",
      "\u001b[1m> Entering new AgentExecutor chain...\u001b[0m\n",
      "\u001b[32;1m\u001b[1;3mThought: I need to find the player with the highest points per game.\n",
      "Action: python_repl_ast\n",
      "Action Input: df1.sort_values(by='points_per_game', ascending=False).head(1)\u001b[0m\n",
      "Observation: \u001b[36;1m\u001b[1;3m     chance_of_playing_next_round  chance_of_playing_this_round  \\\n",
      "315                         100.0                         100.0   \n",
      "\n",
      "     dreamteam_count ep_next ep_this  event_points form   id  in_dreamteam  \\\n",
      "315                1     0.5     0.5             0  0.0  176         False   \n",
      "\n",
      "    news  ... goals_conceded_per_90 selected_rank selected_rank_type  \\\n",
      "315       ...                   0.0           215                 33   \n",
      "\n",
      "    starts_per_90  clean_sheets_per_90    position  team_name price  \\\n",
      "315           1.0                  1.0  Goalkeeper    Everton   3.8   \n",
      "\n",
      "     value_for_money      full_name  \n",
      "315              2.4  Asmir Begović  \n",
      "\n",
      "[1 rows x 69 columns]\u001b[0m\n",
      "Thought:\u001b[32;1m\u001b[1;3m I now know the final answer\n",
      "Final Answer: Asmir Begović\u001b[0m\n",
      "\n",
      "\u001b[1m> Finished chain.\u001b[0m\n"
     ]
    }
   ],
   "source": [
    "test = agent(query)"
   ]
  },
  {
   "cell_type": "code",
   "execution_count": 9,
   "id": "36f28323",
   "metadata": {},
   "outputs": [
    {
     "data": {
      "text/plain": [
       "'Asmir Begović'"
      ]
     },
     "execution_count": 9,
     "metadata": {},
     "output_type": "execute_result"
    }
   ],
   "source": [
    "test['output']"
   ]
  },
  {
   "cell_type": "code",
   "execution_count": 7,
   "id": "946d5a7d",
   "metadata": {},
   "outputs": [],
   "source": [
    "query = \"Who was the most catapined player in gameweek 30?\""
   ]
  },
  {
   "cell_type": "code",
   "execution_count": 8,
   "id": "b3f65ea5",
   "metadata": {},
   "outputs": [
    {
     "name": "stdout",
     "output_type": "stream",
     "text": [
      "\n",
      "\n",
      "\u001b[1m> Entering new AgentExecutor chain...\u001b[0m\n",
      "\u001b[32;1m\u001b[1;3mThought: I need to find the most captained player in gameweek 30\n",
      "Action: python_repl_ast\n",
      "Action Input: df4[df4['gameweek_number'] == 'Gameweek 30']['most_captained_name'].iloc[0]\u001b[0m\n",
      "Observation: \u001b[36;1m\u001b[1;3mErling Haaland\u001b[0m\n",
      "Thought:\u001b[32;1m\u001b[1;3m I now know the final answer\n",
      "Final Answer: Erling Haaland\u001b[0m\n",
      "\n",
      "\u001b[1m> Finished chain.\u001b[0m\n"
     ]
    },
    {
     "data": {
      "text/plain": [
       "'Erling Haaland'"
      ]
     },
     "execution_count": 8,
     "metadata": {},
     "output_type": "execute_result"
    }
   ],
   "source": [
    "agent(query)"
   ]
  },
  {
   "cell_type": "code",
   "execution_count": null,
   "id": "67a96c18",
   "metadata": {},
   "outputs": [],
   "source": []
  }
 ],
 "metadata": {
  "kernelspec": {
   "display_name": "Python 3 (ipykernel)",
   "language": "python",
   "name": "python3"
  },
  "language_info": {
   "codemirror_mode": {
    "name": "ipython",
    "version": 3
   },
   "file_extension": ".py",
   "mimetype": "text/x-python",
   "name": "python",
   "nbconvert_exporter": "python",
   "pygments_lexer": "ipython3",
   "version": "3.10.11"
  }
 },
 "nbformat": 4,
 "nbformat_minor": 5
}
