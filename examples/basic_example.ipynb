{
 "cells": [
  {
   "cell_type": "code",
   "execution_count": 36,
   "id": "8e089f12",
   "metadata": {},
   "outputs": [],
   "source": [
    "import sys\n",
    "sys.path.append('../')\n",
    "from fplbot.bot_agent.bot import fplAgent\n",
    "from langchain.callbacks import get_openai_callback"
   ]
  },
  {
   "cell_type": "code",
   "execution_count": 37,
   "id": "afcd9b98",
   "metadata": {},
   "outputs": [
    {
     "name": "stdout",
     "output_type": "stream",
     "text": [
      "The autoreload extension is already loaded. To reload it, use:\n",
      "  %reload_ext autoreload\n"
     ]
    }
   ],
   "source": [
    "%load_ext autoreload\n",
    "\n",
    "%autoreload 2"
   ]
  },
  {
   "cell_type": "code",
   "execution_count": 41,
   "id": "82d342fe",
   "metadata": {},
   "outputs": [],
   "source": [
    "agent = fplAgent(update_data=False, model_name='text-davinci-003')"
   ]
  },
  {
   "cell_type": "code",
   "execution_count": 42,
   "id": "cd9d3cdc",
   "metadata": {},
   "outputs": [
    {
     "name": "stdout",
     "output_type": "stream",
     "text": [
      "\n",
      "\n",
      "\u001b[1m> Entering new  chain...\u001b[0m\n",
      "\u001b[32;1m\u001b[1;3mThought: I need to find the gameweek where Salah scored the most points\n",
      "Action: python_repl_ast\n",
      "Action Input: df6[df6['full_name'] == 'Mohamed Salah'].sort_values(by='total_points', ascending=False).head(1)\u001b[0m\n",
      "Observation: \u001b[36;1m\u001b[1;3m        full_name  cost opponent_team  total_points  was_home  minutes  \\\n",
      "24  Mohamed Salah  12.7       Man Utd            21      True       90   \n",
      "\n",
      "    goals_scored  assists  clean_sheets  goals_conceded  ...  penalties_saved  \\\n",
      "24             2        2             1               0  ...                0   \n",
      "\n",
      "    penalties_missed  yellow_cards  red_cards  saves  bonus  expected_goals  \\\n",
      "24                 0             1          0      0      3            0.57   \n",
      "\n",
      "    expected_assists  expected_goal_involvements  expected_goals_conceded  \n",
      "24               0.5                        1.07                     0.88  \n",
      "\n",
      "[1 rows x 21 columns]\u001b[0m\n",
      "Thought:\u001b[32;1m\u001b[1;3m I now know the final answer\n",
      "Final Answer: Salah scored the most points against Man Utd.\u001b[0m\n",
      "\n",
      "\u001b[1m> Finished chain.\u001b[0m\n"
     ]
    },
    {
     "name": "stderr",
     "output_type": "stream",
     "text": [
      "\r",
      "  8%|████                                             | 64/778 [00:20<00:23, 30.49it/s]"
     ]
    }
   ],
   "source": [
    "query=\"what opponent did Salah score the most points against this season?\"\n",
    "test = agent(query)"
   ]
  },
  {
   "cell_type": "code",
   "execution_count": 43,
   "id": "22e5393a",
   "metadata": {},
   "outputs": [
    {
     "name": "stdout",
     "output_type": "stream",
     "text": [
      "\n",
      "\n",
      "\u001b[1m> Entering new  chain...\u001b[0m\n",
      "\u001b[32;1m\u001b[1;3mThought: I need to find out Salah's average xAssists\n",
      "Action: python_repl_ast\n",
      "Action Input: df6[df6['full_name'] == 'Mohamed Salah']['assists'].mean()\u001b[0m\n",
      "Observation: \u001b[36;1m\u001b[1;3m0.34210526315789475\u001b[0m\n",
      "Thought:\u001b[32;1m\u001b[1;3m I now know the final answer\n",
      "Final Answer: Salah averaged 0.34 xAssists per game.\u001b[0m\n",
      "\n",
      "\u001b[1m> Finished chain.\u001b[0m\n"
     ]
    }
   ],
   "source": [
    "query=\"how many xAssists did he average?\"\n",
    "test = agent(query)"
   ]
  },
  {
   "cell_type": "code",
   "execution_count": 44,
   "id": "6d00fd49",
   "metadata": {},
   "outputs": [],
   "source": [
    "query=\"how many did he average in previous seasons?\""
   ]
  },
  {
   "cell_type": "code",
   "execution_count": 17,
   "id": "f269a7e5",
   "metadata": {},
   "outputs": [
    {
     "name": "stdout",
     "output_type": "stream",
     "text": [
      "\n",
      "\n",
      "\u001b[1m> Entering new  chain...\u001b[0m\n",
      "\u001b[32;1m\u001b[1;3mThought: We need to use df6 to get the xAssists for each game and then calculate the average.\n",
      "Action: python_repl_ast\n",
      "Action Input: df6[df6['full_name']=='Mohamed Salah']['expected_assists'].mean()\u001b[0m\n",
      "Observation: \u001b[36;1m\u001b[1;3m0.185\u001b[0m\n",
      "Thought:\u001b[32;1m\u001b[1;3mThe xAssists average per game for Salah this season is 0.185.\n",
      "Final Answer: 0.185.\u001b[0m\n",
      "\n",
      "\u001b[1m> Finished chain.\u001b[0m\n",
      "../config.yaml\n",
      "../config.yaml\n",
      "../config.yaml\n",
      "../config.yaml\n",
      "../config.yaml\n",
      "../config.yaml\n",
      "../config.yaml\n",
      "../config.yaml\n"
     ]
    }
   ],
   "source": [
    "query=\"how many did he average per game in this season?\"\n",
    "test = agent(query)"
   ]
  },
  {
   "cell_type": "code",
   "execution_count": 27,
   "id": "9e4602a8",
   "metadata": {},
   "outputs": [
    {
     "name": "stdout",
     "output_type": "stream",
     "text": [
      "\n",
      "\n",
      "\u001b[1m> Entering new  chain...\u001b[0m\n",
      "\u001b[32;1m\u001b[1;3mThought: We need to check the `df6` dataframe to find the gameweeks where Haaland scored the most points and then check the opponent in those gameweeks.\n",
      "Action: python_repl_ast\n",
      "Action Input:\n",
      "```python\n",
      "# filter df6 to only include rows where Haaland scored\n",
      "haaland_df = df6[df6['full_name'] == 'Erling Haaland']\n",
      "haaland_df[haaland_df['total_points'] == haaland_df['total_points'].max()]['opponent_team'].values[0]\n",
      "```\u001b[0m\n",
      "Observation: \u001b[36;1m\u001b[1;3mMan Utd\u001b[0m\n",
      "Thought:\u001b[32;1m\u001b[1;3mWe need to check how many points Haaland scored against Man Utd in the gameweek where he scored the most points.\n",
      "Action: python_repl_ast\n",
      "Action Input:\n",
      "```python\n",
      "# filter df6 to only include rows where Haaland played against Man Utd\n",
      "haaland_vs_manutd = haaland_df[haaland_df['opponent_team'] == 'Man Utd']\n",
      "# get the total points Haaland scored against Man Utd\n",
      "haaland_vs_manutd['total_points'].sum()\n",
      "```\u001b[0m\n",
      "Observation: \u001b[36;1m\u001b[1;3m25\u001b[0m\n",
      "Thought:\u001b[32;1m\u001b[1;3mHaaland scored the most points against Man Utd this season and he scored a total of 25 points in that game.\n",
      "Final Answer: Man Utd, 25.\u001b[0m\n",
      "\n",
      "\u001b[1m> Finished chain.\u001b[0m\n"
     ]
    },
    {
     "data": {
      "text/plain": [
       "'Man Utd, 25.'"
      ]
     },
     "execution_count": 27,
     "metadata": {},
     "output_type": "execute_result"
    }
   ],
   "source": [
    "query = \"who did Haaland score the most points against this season?\"\n",
    "agent(query)"
   ]
  },
  {
   "cell_type": "code",
   "execution_count": 22,
   "id": "505386ab",
   "metadata": {},
   "outputs": [],
   "source": [
    "agent2 = fplAgent(model_name='text-davinci-003', update_data=False)"
   ]
  },
  {
   "cell_type": "code",
   "execution_count": 25,
   "id": "148be266",
   "metadata": {},
   "outputs": [
    {
     "name": "stdout",
     "output_type": "stream",
     "text": [
      "\n",
      "\n",
      "\u001b[1m> Entering new  chain...\u001b[0m\n",
      "\u001b[32;1m\u001b[1;3mThought: I need to find the player with the highest total points from Brighton\n",
      "Action: python_repl_ast\n",
      "Action Input: df1[df1['team_name'] == 'Brighton'].sort_values(by='total_points', ascending=False).head(1)\u001b[0m\n",
      "Observation: \u001b[36;1m\u001b[1;3m      id    position team_name second_name    full_name  now_cost  form news  \\\n",
      "158  104  Midfielder  Brighton        Groß  Pascal Groß       5.4   5.3        \n",
      "\n",
      "     points_per_game  selected_by_percent  ...  red_cards  saves  \\\n",
      "158              4.3                 11.0  ...          0      0   \n",
      "\n",
      "     bonus_points  influence  creativity  threat  ict_index  expected_goals  \\\n",
      "158            14      918.6      1227.5   582.0      273.2            5.19   \n",
      "\n",
      "     expected_assists  expected_goal_involvements  \n",
      "158              8.93                       14.12  \n",
      "\n",
      "[1 rows x 31 columns]\u001b[0m\n",
      "Thought:\u001b[32;1m\u001b[1;3m I now know the final answer\n",
      "Final Answer: Pascal Groß\u001b[0m\n",
      "\n",
      "\u001b[1m> Finished chain.\u001b[0m\n",
      "Tokens Used: 3986\n",
      "\tPrompt Tokens: 3911\n",
      "\tCompletion Tokens: 75\n",
      "Successful Requests: 2\n",
      "Total Cost (USD): $0.07972000000000001\n"
     ]
    }
   ],
   "source": [
    "with get_openai_callback() as cb:\n",
    "    query=\"Who is the top player of Brighton?\"\n",
    "    result = agent2(query)\n",
    "    print(cb)"
   ]
  },
  {
   "cell_type": "code",
   "execution_count": null,
   "id": "33ffea92",
   "metadata": {},
   "outputs": [],
   "source": []
  }
 ],
 "metadata": {
  "kernelspec": {
   "display_name": "Python 3 (ipykernel)",
   "language": "python",
   "name": "python3"
  },
  "language_info": {
   "codemirror_mode": {
    "name": "ipython",
    "version": 3
   },
   "file_extension": ".py",
   "mimetype": "text/x-python",
   "name": "python",
   "nbconvert_exporter": "python",
   "pygments_lexer": "ipython3",
   "version": "3.10.11"
  }
 },
 "nbformat": 4,
 "nbformat_minor": 5
}
